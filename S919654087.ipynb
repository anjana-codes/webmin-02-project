{
 "cells": [
  {
   "cell_type": "markdown",
   "metadata": {},
   "source": [
    "# Anjana Dhakal\n",
    "## GitHub repo link: https://github.com/anjana-codes/webmin-02-project\n",
    "### Date: 10/25/2024"
   ]
  },
  {
   "cell_type": "markdown",
   "metadata": {},
   "source": [
    "### 10. Create a new Jupyter Notebook (the name of the notebook should be your S number). Add a Markdown cell that contains your name. Add a Code cell and write Python that uses loops to draw the following pattern:\n",
    "\n",
    "```\n",
    "*      *\n",
    "**    **\n",
    "***  ***\n",
    "********\n",
    "```\n"
   ]
  },
  {
   "cell_type": "code",
   "execution_count": 1,
   "metadata": {},
   "outputs": [
    {
     "name": "stdout",
     "output_type": "stream",
     "text": [
      "*      *\n",
      "**    **\n",
      "***  ***\n",
      "********\n"
     ]
    }
   ],
   "source": [
    "# Define the number of rows\n",
    "rows = 4\n",
    "\n",
    "# Loop through each row\n",
    "for i in range(1, rows + 1):\n",
    "    # Print left stars\n",
    "    print('*' * i, end='')\n",
    "    \n",
    "    # Print spaces in the middle\n",
    "    print(' ' * (2 * (rows - i)), end='')\n",
    "    \n",
    "    # Print right stars\n",
    "    print('*' * i)"
   ]
  }
 ],
 "metadata": {
  "kernelspec": {
   "display_name": "Python 3",
   "language": "python",
   "name": "python3"
  },
  "language_info": {
   "codemirror_mode": {
    "name": "ipython",
    "version": 3
   },
   "file_extension": ".py",
   "mimetype": "text/x-python",
   "name": "python",
   "nbconvert_exporter": "python",
   "pygments_lexer": "ipython3",
   "version": "3.12.2"
  }
 },
 "nbformat": 4,
 "nbformat_minor": 2
}
