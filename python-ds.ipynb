{
 "cells": [
  {
   "cell_type": "markdown",
   "metadata": {},
   "source": [
    "# Web Mining and Applied NLP (44-620)\n",
    "\n",
    "## Python Notebooks, Basics, and Data Structures\n",
    "\n",
    "### Student Name: Anjana Dhakal,  10/25/2024\n",
    "GitHub repo: https://github.com/anjana-codes/webmin-02-project\n"
   ]
  },
  {
   "cell_type": "markdown",
   "metadata": {},
   "source": [
    "### 1. Modify the Markdown cell above to put your name after \"Student Name:\"; you will be expected to do this in all assignments presented in this format for this class."
   ]
  },
  {
   "cell_type": "markdown",
   "metadata": {},
   "source": [
    "### 2. Write code that divides any two numbers, stores the result in a variable, and prints the result with an appropriate label."
   ]
  },
  {
   "cell_type": "code",
   "execution_count": 21,
   "metadata": {},
   "outputs": [
    {
     "name": "stdout",
     "output_type": "stream",
     "text": [
      "The result of the division is: 5.0\n"
     ]
    }
   ],
   "source": [
    "# Define two numbers\n",
    "num1 = 10\n",
    "num2 = 2\n",
    "\n",
    "# Perform division and store the result\n",
    "result = num1 / num2\n",
    "\n",
    "# Print the result with a label\n",
    "print(\"The result of the division is:\", result)"
   ]
  },
  {
   "cell_type": "markdown",
   "metadata": {},
   "source": [
    "### 3. Using loops (and potentially conditionals), write Python code that prints the factorial of each integer from 1 through 10 (which you can store in a variable if you want). The factorial of an integer is the product of all of the integers of 1 through the number. Print the result with an appropriate label."
   ]
  },
  {
   "cell_type": "code",
   "execution_count": 22,
   "metadata": {},
   "outputs": [
    {
     "name": "stdout",
     "output_type": "stream",
     "text": [
      "The factorial of 1 is: 1\n",
      "The factorial of 2 is: 2\n",
      "The factorial of 3 is: 6\n",
      "The factorial of 4 is: 24\n",
      "The factorial of 5 is: 120\n",
      "The factorial of 6 is: 720\n",
      "The factorial of 7 is: 5040\n",
      "The factorial of 8 is: 40320\n",
      "The factorial of 9 is: 362880\n",
      "The factorial of 10 is: 3628800\n"
     ]
    }
   ],
   "source": [
    "#Defining the factorial function\n",
    "\n",
    "def factorial(n):\n",
    "  \n",
    "  if n == 0:\n",
    "    return 1\n",
    "  else:\n",
    "    return n * factorial(n - 1)  \n",
    "\n",
    "# Calculate and print the factorials of numbers from 1 to 10\n",
    "for i in range(1, 11):\n",
    "  result = factorial(i)\n",
    "  print(\"The factorial of\", i, \"is:\", result)"
   ]
  },
  {
   "cell_type": "markdown",
   "metadata": {},
   "source": [
    "### 4. Write a python function that takes a single parameter and calculates and returns the average (mean) of the values in the parameter (which you may assume is iterable).  Show that your function works by printing the result of calling the function on the list in the cell below."
   ]
  },
  {
   "cell_type": "code",
   "execution_count": 23,
   "metadata": {},
   "outputs": [
    {
     "name": "stdout",
     "output_type": "stream",
     "text": [
      "The average of the testlist is: 0.0\n"
     ]
    }
   ],
   "source": [
    "#Define function  to calculate average\n",
    "\n",
    "def cal_avg(values):\n",
    "    # Check if the iterable is not empty to avoid division by zero\n",
    "    if not values:\n",
    "        return 0  # Return 0 for empty input\n",
    "    total = sum(values)  \n",
    "    count = len(values)  \n",
    "    average = total / count  \n",
    "    return average\n",
    "\n",
    "# Test list\n",
    "testlist = [1, -1, 2, -2, 3, -3, 4, -4]\n",
    "\n",
    "# Call the function and print the result\n",
    "avg_result = cal_avg(testlist)\n",
    "print(\"The average of the testlist is:\", avg_result)"
   ]
  },
  {
   "cell_type": "markdown",
   "metadata": {},
   "source": [
    "### 5. Using your mean function above, write a function that calculates the variance of the list of numbers (see https://en.wikipedia.org/wiki/Variance for more information on the formula). In short:\n",
    "* subtract the mean of the elements in the list from every element in the list; store these values in a new list\n",
    "* square every element in the new list and sum the elements together\n",
    "* divide the resulting number by N (where N is the length of the original list)\n",
    "\n",
    "Show the result of calling your function in the lists in the code cell. You must use one or more list comprehensions or map/filter in your code.\n"
   ]
  },
  {
   "cell_type": "code",
   "execution_count": 24,
   "metadata": {},
   "outputs": [
    {
     "name": "stdout",
     "output_type": "stream",
     "text": [
      "The variance of list 1 is: 1.13973309\n",
      "Th variance of list 2 is : 0.9257232841\n",
      "variances are off by: 0.21400980589999996\n"
     ]
    }
   ],
   "source": [
    "#define function  to calculate average\n",
    "def cal_avg(values):\n",
    "    # Check if the iterable is not empty to avoid division by zero\n",
    "    if not values:\n",
    "        return 0  # Return 0 for empty input\n",
    "    total = sum(values)  \n",
    "    count = len(values)  \n",
    "    average = total / count  \n",
    "    return average\n",
    "\n",
    "#define function  to calculate variance\n",
    "def calculate_variance(values):\n",
    "  if not values:\n",
    "    raise ValueError(\"Cannot calculate variance of an empty list.\")\n",
    "  avg = cal_avg(values)\n",
    "  squared_deviations = [ (value - avg)**2 for value in values ]  \n",
    "  \n",
    "  variance = sum(squared_deviations) / len(values)\n",
    "  return variance\n",
    "\n",
    "# using following lists\n",
    "list1 = [ 5.670e-1, -1.480e+0, -5.570e-1, -1.470e+0, 7.340e-1, 1.050e+0, 4.480e-1, 2.570e-1, -1.970e+0, -1.460e+0]\n",
    "list2 = [-1.780e+0, 2.640e-1, 1.160e+0, 9.080e-1, 1.780e+0, 1.080e+0, 1.050e+0, -4.630e-2, 1.520e+0, 5.350e-1]\n",
    "\n",
    "#calculate variance\n",
    "variance1 = calculate_variance(list1)\n",
    "variance2 = calculate_variance(list2)\n",
    "variance_diff = variance1 - variance2\n",
    "\n",
    "#print the results\n",
    "print(\"The variance of list 1 is:\", variance1)\n",
    "print(\"Th variance of list 2 is :\", variance2)\n",
    "print(\"variances are off by:\" , variance_diff)"
   ]
  },
  {
   "cell_type": "markdown",
   "metadata": {},
   "source": [
    "### 6. Create a list with at least 15 elements in it. Use list slicing to print the following:\n",
    "* The first 5 elements of the list\n",
    "* The last 5 elements of the list\n",
    "* The list reversed (hint, show the entire list with a stride of -1)\n",
    "* Every second element in the list\n",
    "* Every third element in the list (stride of 3)"
   ]
  },
  {
   "cell_type": "code",
   "execution_count": 25,
   "metadata": {},
   "outputs": [
    {
     "name": "stdout",
     "output_type": "stream",
     "text": [
      "Total number in the list is:  15\n",
      "The first 5 elements of the list is: [1, 2, 3, 4, 5]\n",
      "The last 5 elements of the list is: [11, 12, 13, 14, 15]\n",
      "The reversed list is: [15, 14, 13, 12, 11, 10, 9, 8, 7, 6, 5, 4, 3, 2, 1]\n",
      "Every second element in the list is: [1, 3, 5, 7, 9, 11, 13, 15]\n",
      "Every third element in the list is: [1, 4, 7, 10, 13]\n"
     ]
    }
   ],
   "source": [
    "# create a list with 15 elements\n",
    "my_list = [1,2,3,4,5,6,7,8,9,10,11,12,13,14,15]\n",
    "\n",
    "#total count\n",
    "print(\"Total number in the list is: \", len(my_list))\n",
    "\n",
    "#first 5 elements of the list\n",
    "print(\"The first 5 elements of the list is:\", my_list[:5])\n",
    "\n",
    "#the last 5 elements\n",
    "print(\"The last 5 elements of the list is:\", my_list[-5:])\n",
    "\n",
    "#list reversed\n",
    "print(\"The reversed list is:\", my_list[::-1])\n",
    "\n",
    "#every second element in the list\n",
    "print(\"Every second element in the list is:\", my_list[::2])\n",
    "\n",
    "#every third element in the list\n",
    "print(\"Every third element in the list is:\", my_list[::3])"
   ]
  },
  {
   "cell_type": "markdown",
   "metadata": {},
   "source": [
    "### 7. Build a dictionary that contains the following information about this class (with appropriate names as keys):\n",
    "* The name\n",
    "* The course number\n",
    "* The semester/term in which you are taking this course\n",
    "* The number of credit hours this course counts for\n",
    "* A list of the course learning objectives\n",
    "\n",
    "The majority of this information can be found in the syllabus. Print the dictionary."
   ]
  },
  {
   "cell_type": "code",
   "execution_count": 26,
   "metadata": {},
   "outputs": [
    {
     "name": "stdout",
     "output_type": "stream",
     "text": [
      "{'name': 'Web Mining and Applied NLP', 'course_no': '44620-80', 'term': '2024 Fall OP2', 'credit_hrs': '3', 'objectives': ['Manage Python libraries and packages', 'Interact with hosted Version Control Systems', 'Programmatically obtain and transform data from web-based APIs and HTML pages', 'Describe the steps in a basic Natural Language Processing (NLP) Pipeline', 'Use preexisting tools and software libraries to perform some NLP, such as sentiment analysis', 'Explain results and conclusions drawn from visualized information']}\n"
     ]
    }
   ],
   "source": [
    "#Build a dictonary with course information\n",
    "class_info = {\n",
    "    'name': 'Web Mining and Applied NLP', \n",
    "    'course_no': '44620-80',\n",
    "    'term':'2024 Fall OP2', \n",
    "    'credit_hrs':'3', \n",
    "    'objectives': ['Manage Python libraries and packages', \n",
    "                            'Interact with hosted Version Control Systems',\n",
    "                            'Programmatically obtain and transform data from web-based APIs and HTML pages',\n",
    "                            'Describe the steps in a basic Natural Language Processing (NLP) Pipeline',\n",
    "                            'Use preexisting tools and software libraries to perform some NLP, such as sentiment analysis',\n",
    "                            'Explain results and conclusions drawn from visualized information']\n",
    "\n",
    "                }\n",
    "\n",
    "# print the dictionary\n",
    "print(class_info)"
   ]
  },
  {
   "cell_type": "markdown",
   "metadata": {},
   "source": [
    "### 8.  Given the dictionary defined in the code cell below, print the list of level 3 spells the character has."
   ]
  },
  {
   "cell_type": "code",
   "execution_count": 27,
   "metadata": {},
   "outputs": [
    {
     "name": "stdout",
     "output_type": "stream",
     "text": [
      "The level_3_spells is : ['Mass Healing Word', 'Nondetection', 'Revivify', 'Feign Death', 'Speak with Dead']\n"
     ]
    }
   ],
   "source": [
    "player_character = {'name': 'Kitab',\n",
    "                   'class': [('Cleric: Knowledge', 7)],\n",
    "                   'spells': {'cantrip': ['Guidance', 'Light', 'Thaumaturgy', 'Toll the Dead', 'Word of Radiance'],\n",
    "                             'level 1': ['Command', 'Detect Magic', 'Healing Word', 'Identify', 'Sleep'],\n",
    "                             'level 2': ['Augury', 'Calm Emotions', 'Command', 'Invisibility', 'Lesser Restoration'],\n",
    "                             'level 3': ['Mass Healing Word', 'Nondetection', 'Revivify', 'Feign Death', 'Speak with Dead'],\n",
    "                             'level 4': ['Banishment', 'Confusion']}\n",
    "                   }\n",
    "\n",
    "#the list of level 3 spells\n",
    "level_3_spells = player_character['spells']['level 3']\n",
    "print(\"The level_3_spells is :\", level_3_spells)"
   ]
  },
  {
   "cell_type": "markdown",
   "metadata": {},
   "source": [
    "### 9. Write code to determine the number of unique elements in the list below.  You MUST use a set in finding your solution.  Print the number of unique values in the list with an appropriate label."
   ]
  },
  {
   "cell_type": "code",
   "execution_count": 28,
   "metadata": {},
   "outputs": [
    {
     "name": "stdout",
     "output_type": "stream",
     "text": [
      "{0, 1, 5, 6, 7, 8, 9, 10, 11, 12, 13, 15}\n",
      "The number of unique values in the list is: 12\n"
     ]
    }
   ],
   "source": [
    "values = [10, 11, 10, 8, 1, 12, 0, 1, 6, 5, 5, 13, 6, 15, 0, 0, 1, 1, 9, 7]\n",
    "# use a set to find unique elements\n",
    "unique_values =set(values)\n",
    "\n",
    "#print the unique values\n",
    "print(unique_values)\n",
    "\n",
    "#number of unique_values \n",
    "count_unique_values =len(unique_values)\n",
    "\n",
    "#print the result\n",
    "print(\"The number of unique values in the list is:\",count_unique_values)"
   ]
  }
 ],
 "metadata": {
  "kernelspec": {
   "display_name": "Python 3",
   "language": "python",
   "name": "python3"
  },
  "language_info": {
   "codemirror_mode": {
    "name": "ipython",
    "version": 3
   },
   "file_extension": ".py",
   "mimetype": "text/x-python",
   "name": "python",
   "nbconvert_exporter": "python",
   "pygments_lexer": "ipython3",
   "version": "3.12.2"
  }
 },
 "nbformat": 4,
 "nbformat_minor": 4
}
